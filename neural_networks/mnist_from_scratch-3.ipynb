{
  "nbformat": 4,
  "nbformat_minor": 0,
  "metadata": {
    "colab": {
      "provenance": []
    },
    "kernelspec": {
      "name": "python3",
      "display_name": "Python 3"
    },
    "language_info": {
      "name": "python"
    }
  },
  "cells": [
    {
      "cell_type": "code",
      "execution_count": 165,
      "metadata": {
        "id": "zXVxB6bM1_mh"
      },
      "outputs": [],
      "source": [
        "import numpy as np\n",
        "from matplotlib import pyplot as plt\n",
        "from keras.datasets import mnist\n",
        "from random import sample\n",
        "\n",
        "(x_train, y_train), (x_test, y_test) = mnist.load_data()\n",
        "SCALE_FACTOR = 255\n",
        "WIDTH = x_train.shape[1]\n",
        "HEIGHT = x_train.shape[2]\n",
        "x_train = x_train.reshape(x_train.shape[0],WIDTH*HEIGHT).T / SCALE_FACTOR\n",
        "x_test = x_test.reshape(x_test.shape[0],WIDTH*HEIGHT).T  / SCALE_FACTOR"
      ]
    },
    {
      "cell_type": "markdown",
      "source": [
        "# Mnist from scratch\n",
        "\n",
        "* simple 2 layer MLP\n",
        "* 1 hidden layer size 10, reLU activation\n",
        "* 1 output layer, size 10, softmax activation\n",
        "* based on tutorial at https://www.youtube.com/watch?v=w8yWXqWQYmU"
      ],
      "metadata": {
        "id": "ga1PBSzj7rrz"
      }
    },
    {
      "cell_type": "code",
      "source": [
        "# global run settings\n",
        "ETA = 0.01\n",
        "EPOCHS=1000\n",
        "#initialise input\n",
        "A_0 = np.asarray([np.reshape(np.asarray(x),[784,]) for x in x_train.T]).T\n",
        "print(A_0.shape)\n",
        "#initalise weights\n",
        "W_1 = np.random.randn(10,784) * np.sqrt(1./(784))\n",
        "b_1 = np.random.randn(10,1) * np.sqrt(1./(10))\n",
        "W_2 = np.random.randn(10,10) * np.sqrt(1./(20))\n",
        "b_2 = np.random.randn(10,1) * np.sqrt(1./(784))\n",
        "np.mean(W_1) #should be ~~0"
      ],
      "metadata": {
        "colab": {
          "base_uri": "https://localhost:8080/"
        },
        "id": "7IOmfjHe7BaG",
        "outputId": "305e4581-15c8-4976-fd70-c9eb89d34039"
      },
      "execution_count": 166,
      "outputs": [
        {
          "output_type": "stream",
          "name": "stdout",
          "text": [
            "(784, 60000)\n"
          ]
        },
        {
          "output_type": "execute_result",
          "data": {
            "text/plain": [
              "-0.00020535999774438235"
            ]
          },
          "metadata": {},
          "execution_count": 166
        }
      ]
    },
    {
      "cell_type": "code",
      "source": [
        "def reLU(x):\n",
        "    return np.maximum(x,0)\n",
        "\n",
        "def softmax(Z):\n",
        "    \"\"\"Compute softmax values for each sets of scores in x.\"\"\"\n",
        "    exp = np.exp(Z - np.max(Z))\n",
        "    return exp / exp.sum(axis=0)\n",
        "\n",
        "def reLU_diff(x):\n",
        "    return x > 0\n",
        "\n",
        "# forward propagate\n",
        "def forward_prop(A_0, W_1, b_1, W_2, b_2):\n",
        "    z_1 = W_1.dot(A_0) + b_1\n",
        "    # relu\n",
        "    A_1 = reLU(z_1)\n",
        "    z_2 = W_2.dot(A_1) + b_2\n",
        "    # apply softmax\n",
        "    A_2 = softmax(z_2)\n",
        "    return z_1, A_1, z_2, A_2\n",
        "\n",
        "def one_hot_Y(classnum):\n",
        "    res = np.zeros(10)\n",
        "    res[classnum] = 1\n",
        "    return res.T\n",
        "\n",
        "def back_prop(A_0,A_1,A_2,z_1,Y,W_1,b_1,W_2,b_2):\n",
        "    samp_num = Y.shape[1] #number of training samples\n",
        "    # ~~~~~~~~~ dC/dW_2 ~~~~~~~~~~~~\n",
        "    dz_2 = 2*(A_2 - Y)\n",
        "    dW_2 = 1/(samp_num) * dz_2.dot(A_1.T)\n",
        "    # ~~~~~~~~~ dC/db_2 ~~~~~~~~~~~~\n",
        "    db_2 = 1/(samp_num) * np.sum(dz_2,1).reshape([10,1])\n",
        "    # ~~~~~~~~~ dC/dW_1 ~~~~~~~~~~~~\n",
        "    dz_1 = W_2.T.dot(dz_2) * reLU_diff(z_1) \n",
        "    dW_1 = 1/(samp_num) * dz_1.dot(A_0.T)\n",
        "    # ~~~~~~~~~ dC/db_1 ~~~~~~~~~~~~\n",
        "    db_1 = 1/(samp_num) * np.sum(dz_1,1).reshape([10,1])\n",
        "    W_1 -= ETA * dW_1\n",
        "    W_2 -= ETA * dW_2\n",
        "    b_1 -= ETA * db_1\n",
        "    b_2 -= ETA * db_2\n",
        "    return W_1, b_1, W_2, b_2\n",
        "\n",
        "def return_acc(A_2, Y):\n",
        "    #want to iterate over cols\n",
        "    A_2 = A_2.T\n",
        "    Y = Y.T\n",
        "    correct = 0\n",
        "    for i in range(len(A_2)):\n",
        "        if np.argmax(A_2[i])==np.argmax(Y[i]):\n",
        "            correct += 1\n",
        "    return (correct / len(A_2))\n",
        "\n",
        "# let's perform gradient descent\n",
        "Y = np.asarray([one_hot_Y(y) for y in y_train]).T\n",
        "for i in range(EPOCHS):\n",
        "    z_1, A_1, z_2, A_2 = forward_prop(A_0, W_1, b_1, W_2, b_2)\n",
        "    W_1, b_1, W_2, b_2 = back_prop(A_0, A_1, A_2, z_1, \n",
        "                                    Y, W_1, b_1, W_2, b_2)\n",
        "    acc = return_acc(A_2,Y)\n",
        "    print(\"Training accuracy: \",acc)"
      ],
      "metadata": {
        "colab": {
          "base_uri": "https://localhost:8080/",
          "height": 426
        },
        "id": "QZbOg7k365TC",
        "outputId": "da2ab602-963b-4467-e8a0-87936be35bf9"
      },
      "execution_count": 174,
      "outputs": [
        {
          "output_type": "stream",
          "name": "stdout",
          "text": [
            "Training accuracy:  0.7541\n",
            "Training accuracy:  0.7544\n",
            "Training accuracy:  0.7549833333333333\n",
            "Training accuracy:  0.75555\n"
          ]
        },
        {
          "output_type": "error",
          "ename": "KeyboardInterrupt",
          "evalue": "ignored",
          "traceback": [
            "\u001b[0;31m---------------------------------------------------------------------------\u001b[0m",
            "\u001b[0;31mKeyboardInterrupt\u001b[0m                         Traceback (most recent call last)",
            "\u001b[0;32m<ipython-input-174-5788a8efffea>\u001b[0m in \u001b[0;36m<module>\u001b[0;34m\u001b[0m\n\u001b[1;32m     59\u001b[0m     W_1, b_1, W_2, b_2 = back_prop(A_0, A_1, A_2, z_1, \n\u001b[1;32m     60\u001b[0m                                     Y, W_1, b_1, W_2, b_2)\n\u001b[0;32m---> 61\u001b[0;31m     \u001b[0macc\u001b[0m \u001b[0;34m=\u001b[0m \u001b[0mreturn_acc\u001b[0m\u001b[0;34m(\u001b[0m\u001b[0mA_2\u001b[0m\u001b[0;34m,\u001b[0m\u001b[0mY\u001b[0m\u001b[0;34m)\u001b[0m\u001b[0;34m\u001b[0m\u001b[0;34m\u001b[0m\u001b[0m\n\u001b[0m\u001b[1;32m     62\u001b[0m     \u001b[0mprint\u001b[0m\u001b[0;34m(\u001b[0m\u001b[0;34m\"Training accuracy: \"\u001b[0m\u001b[0;34m,\u001b[0m\u001b[0macc\u001b[0m\u001b[0;34m)\u001b[0m\u001b[0;34m\u001b[0m\u001b[0;34m\u001b[0m\u001b[0m\n",
            "\u001b[0;32m<ipython-input-174-5788a8efffea>\u001b[0m in \u001b[0;36mreturn_acc\u001b[0;34m(A_2, Y)\u001b[0m\n\u001b[1;32m     49\u001b[0m     \u001b[0mcorrect\u001b[0m \u001b[0;34m=\u001b[0m \u001b[0;36m0\u001b[0m\u001b[0;34m\u001b[0m\u001b[0;34m\u001b[0m\u001b[0m\n\u001b[1;32m     50\u001b[0m     \u001b[0;32mfor\u001b[0m \u001b[0mi\u001b[0m \u001b[0;32min\u001b[0m \u001b[0mrange\u001b[0m\u001b[0;34m(\u001b[0m\u001b[0mlen\u001b[0m\u001b[0;34m(\u001b[0m\u001b[0mA_2\u001b[0m\u001b[0;34m)\u001b[0m\u001b[0;34m)\u001b[0m\u001b[0;34m:\u001b[0m\u001b[0;34m\u001b[0m\u001b[0;34m\u001b[0m\u001b[0m\n\u001b[0;32m---> 51\u001b[0;31m         \u001b[0;32mif\u001b[0m \u001b[0mnp\u001b[0m\u001b[0;34m.\u001b[0m\u001b[0margmax\u001b[0m\u001b[0;34m(\u001b[0m\u001b[0mA_2\u001b[0m\u001b[0;34m[\u001b[0m\u001b[0mi\u001b[0m\u001b[0;34m]\u001b[0m\u001b[0;34m)\u001b[0m\u001b[0;34m==\u001b[0m\u001b[0mnp\u001b[0m\u001b[0;34m.\u001b[0m\u001b[0margmax\u001b[0m\u001b[0;34m(\u001b[0m\u001b[0mY\u001b[0m\u001b[0;34m[\u001b[0m\u001b[0mi\u001b[0m\u001b[0;34m]\u001b[0m\u001b[0;34m)\u001b[0m\u001b[0;34m:\u001b[0m\u001b[0;34m\u001b[0m\u001b[0;34m\u001b[0m\u001b[0m\n\u001b[0m\u001b[1;32m     52\u001b[0m             \u001b[0mcorrect\u001b[0m \u001b[0;34m+=\u001b[0m \u001b[0;36m1\u001b[0m\u001b[0;34m\u001b[0m\u001b[0;34m\u001b[0m\u001b[0m\n\u001b[1;32m     53\u001b[0m     \u001b[0;32mreturn\u001b[0m \u001b[0;34m(\u001b[0m\u001b[0mcorrect\u001b[0m \u001b[0;34m/\u001b[0m \u001b[0mlen\u001b[0m\u001b[0;34m(\u001b[0m\u001b[0mA_2\u001b[0m\u001b[0;34m)\u001b[0m\u001b[0;34m)\u001b[0m\u001b[0;34m\u001b[0m\u001b[0;34m\u001b[0m\u001b[0m\n",
            "\u001b[0;32m/usr/local/lib/python3.8/dist-packages/numpy/core/overrides.py\u001b[0m in \u001b[0;36margmax\u001b[0;34m(*args, **kwargs)\u001b[0m\n",
            "\u001b[0;32m/usr/local/lib/python3.8/dist-packages/numpy/core/fromnumeric.py\u001b[0m in \u001b[0;36margmax\u001b[0;34m(a, axis, out, keepdims)\u001b[0m\n\u001b[1;32m   1214\u001b[0m     \"\"\"\n\u001b[1;32m   1215\u001b[0m     \u001b[0mkwds\u001b[0m \u001b[0;34m=\u001b[0m \u001b[0;34m{\u001b[0m\u001b[0;34m'keepdims'\u001b[0m\u001b[0;34m:\u001b[0m \u001b[0mkeepdims\u001b[0m\u001b[0;34m}\u001b[0m \u001b[0;32mif\u001b[0m \u001b[0mkeepdims\u001b[0m \u001b[0;32mis\u001b[0m \u001b[0;32mnot\u001b[0m \u001b[0mnp\u001b[0m\u001b[0;34m.\u001b[0m\u001b[0m_NoValue\u001b[0m \u001b[0;32melse\u001b[0m \u001b[0;34m{\u001b[0m\u001b[0;34m}\u001b[0m\u001b[0;34m\u001b[0m\u001b[0;34m\u001b[0m\u001b[0m\n\u001b[0;32m-> 1216\u001b[0;31m     \u001b[0;32mreturn\u001b[0m \u001b[0m_wrapfunc\u001b[0m\u001b[0;34m(\u001b[0m\u001b[0ma\u001b[0m\u001b[0;34m,\u001b[0m \u001b[0;34m'argmax'\u001b[0m\u001b[0;34m,\u001b[0m \u001b[0maxis\u001b[0m\u001b[0;34m=\u001b[0m\u001b[0maxis\u001b[0m\u001b[0;34m,\u001b[0m \u001b[0mout\u001b[0m\u001b[0;34m=\u001b[0m\u001b[0mout\u001b[0m\u001b[0;34m,\u001b[0m \u001b[0;34m**\u001b[0m\u001b[0mkwds\u001b[0m\u001b[0;34m)\u001b[0m\u001b[0;34m\u001b[0m\u001b[0;34m\u001b[0m\u001b[0m\n\u001b[0m\u001b[1;32m   1217\u001b[0m \u001b[0;34m\u001b[0m\u001b[0m\n\u001b[1;32m   1218\u001b[0m \u001b[0;34m\u001b[0m\u001b[0m\n",
            "\u001b[0;31mKeyboardInterrupt\u001b[0m: "
          ]
        }
      ]
    },
    {
      "cell_type": "code",
      "source": [
        "# lets do some testing\n",
        "input = np.asarray([np.reshape(np.asarray(x),[784,]) for x in x_test.T]).T\n",
        "labels = np.asarray([one_hot_Y(y) for y in y_test]).T\n",
        "_,_,_,preds = forward_prop(input,W_1,b_1,W_2,b_2)\n",
        "acc = return_acc(preds,labels)\n",
        "print(\"Accuracy: \",acc)"
      ],
      "metadata": {
        "colab": {
          "base_uri": "https://localhost:8080/"
        },
        "id": "Zc8JLLw3uXv1",
        "outputId": "31143576-f1f1-4849-9963-f1d98a158e56"
      },
      "execution_count": 173,
      "outputs": [
        {
          "output_type": "stream",
          "name": "stdout",
          "text": [
            "Accuracy:  0.7588\n"
          ]
        }
      ]
    },
    {
      "cell_type": "markdown",
      "source": [
        "Nice."
      ],
      "metadata": {
        "id": "-FBfQwxxvVdD"
      }
    }
  ]
}