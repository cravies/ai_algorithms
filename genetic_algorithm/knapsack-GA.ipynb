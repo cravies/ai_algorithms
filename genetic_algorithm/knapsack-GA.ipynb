{
  "nbformat": 4,
  "nbformat_minor": 0,
  "metadata": {
    "colab": {
      "provenance": []
    },
    "kernelspec": {
      "name": "python3",
      "display_name": "Python 3"
    },
    "language_info": {
      "name": "python"
    }
  },
  "cells": [
    {
      "cell_type": "code",
      "source": [
        "#grab knapsack data\n",
        "from google.colab import drive\n",
        "drive.mount('/content/drive')"
      ],
      "metadata": {
        "colab": {
          "base_uri": "https://localhost:8080/"
        },
        "id": "qVYBhJG4f5bv",
        "outputId": "13c33f91-cd26-4df7-c134-bb70b7a8242e"
      },
      "execution_count": 1,
      "outputs": [
        {
          "output_type": "stream",
          "name": "stdout",
          "text": [
            "Mounted at /content/drive\n"
          ]
        }
      ]
    },
    {
      "cell_type": "code",
      "source": [
        "cp -r ./drive/MyDrive/knapsack-data/*.txt ./"
      ],
      "metadata": {
        "id": "BhLD1oAngMul"
      },
      "execution_count": 2,
      "outputs": []
    },
    {
      "cell_type": "code",
      "source": [
        "\"\"\"\n",
        "Use a genetic algorithm to \n",
        "solve the knapsack problem\n",
        "\"\"\"\n",
        "import numpy as np\n",
        "from matplotlib import pyplot as plt\n",
        "from numpy.random import randn, rand\n",
        "from random import randint\n",
        "import operator\n",
        "from copy import copy\n",
        "from PIL import Image\n",
        "import os\n",
        "import pandas as pd"
      ],
      "metadata": {
        "id": "6WVSCaE0hRm0"
      },
      "execution_count": 3,
      "outputs": []
    },
    {
      "cell_type": "code",
      "source": [
        "def read_file(filename):\n",
        "    \"\"\"\n",
        "    Given a filename with knapsack data,\n",
        "    read number,capacity,values,weights and return.\n",
        "    \"\"\"\n",
        "    fname=filename[0:len(filename)-4].split('_')\n",
        "    number=fname[0]\n",
        "    capacity=fname[1]\n",
        "    df = pd.read_csv(filename, delimiter=\" \", names=[\"Value\",\"Weight\"])\n",
        "    values = df['Value'].to_numpy()\n",
        "    weights = df['Weight'].to_numpy()\n",
        "    #drop first in values and weights column as it is number, capacity\n",
        "    return int(number),int(capacity),values[1:],weights[1:]\n",
        "\n",
        "def init_population(n,l):\n",
        "    \"\"\"\n",
        "    initialize n candidates\n",
        "    of length l\n",
        "    \"\"\"\n",
        "    population=[list(np.random.choice([0, 1], size=(l,))) for i in range(n)]\n",
        "    return population\n",
        "\n",
        "def mutate(population, mut_rate):\n",
        "    \"\"\"\n",
        "    Randomly mutate the candidates.\n",
        "    Mutation is done by picking candidates \n",
        "    and flipping a single bit\n",
        "    \"\"\"\n",
        "    population = np.array(population)\n",
        "    mut_population=[]\n",
        "    mut_count = 0\n",
        "    #pick some candidates to randomly mutate\n",
        "    cands = np.random.choice(range(len(population)),replace=False, size=(mut_rate,))\n",
        "    #print(\"Mutating cands \",cands)\n",
        "    for i in cands:\n",
        "        #print(f\"Mutating candidate {population[i]}\")\n",
        "        j = np.random.choice(range(len(population[0])),replace=False, size=(1,))\n",
        "        #print(f\"Mutating index {j}\")\n",
        "        if population[i][j] == 0:\n",
        "            population[i][j] = 1\n",
        "        else:\n",
        "            population[i][j] = 0\n",
        "        #print(f\"Mutated candidate {population[i]}\")\n",
        "    return list(population)\n",
        "\n",
        "def selection(n_remove,cap,values,weights,population):\n",
        "    \"\"\"\n",
        "    Truncation selection.\n",
        "    Given a population,\n",
        "    remove the n individuals with lowest fitness.\n",
        "    Invalid combinations (exceeds weight of knapsack)\n",
        "    are set to fitness 0.\n",
        "    \"\"\"\n",
        "    score = {}\n",
        "    for i,candidate in enumerate(population):\n",
        "        fit = fitness(cap,values,weights,candidate)\n",
        "        score[f\"{i}\"] = fit\n",
        "\n",
        "    #get rid of weakest individuals\n",
        "    sorted_score = dict(sorted(\n",
        "            score.items(),\n",
        "            key=operator.itemgetter(1),\n",
        "            ))\n",
        "\n",
        "    #indexes to be eliminated\n",
        "    perished_inds = list(sorted_score.keys())[0:n_remove]\n",
        "    perished_inds=[int(i) for i in perished_inds]\n",
        "\n",
        "    #remove from population perished individuals\n",
        "    for i in sorted(perished_inds, reverse=True):\n",
        "        del population[i]\n",
        "    \n",
        "    return population\n",
        "\n",
        "def fitness(cap,values,weights,candidate):\n",
        "    \"\"\"\n",
        "    Evaluate the fitness of a candidate\n",
        "    i.e if we have \n",
        "    cap=3\n",
        "    w=[1,2,3]\n",
        "    v=[10,10,10]\n",
        "    bs1 = [1,1,0] has f1=20 (w1=1+2=3, < cap)\n",
        "    bs2 = [1,1,1] has f2=0 (w2=1+2+3=6 > cap so invalid)\n",
        "    \"\"\"\n",
        "    total_val = np.dot(candidate, values)\n",
        "    total_weight = np.dot(candidate, weights)\n",
        "    if total_weight > cap:\n",
        "        return 0\n",
        "    else:\n",
        "        return total_val\n",
        "\n",
        "def crossover(population, rate):\n",
        "    \"\"\"\n",
        "    randomly pick pairs of parents [p1,p2]\n",
        "    perform crossover -> [c1,c2]\n",
        "    add children to population\n",
        "    \"\"\"\n",
        "    population = np.array(population)\n",
        "    count = 0\n",
        "    #pick some parents\n",
        "    parents = np.random.choice(range(len(population)),replace=False, size=(rate*2))\n",
        "    children = []\n",
        "    p1_vec = parents[0:rate]\n",
        "    p2_vec = parents[rate:]\n",
        "    #print(f\"p1 len {len(p1_vec)} p2 len {len(p2_vec)}\")\n",
        "    for i,p1_ind in enumerate(p1_vec):\n",
        "        p2_ind = p2_vec[i]\n",
        "        p1 = population[p1_ind]\n",
        "        p2 = population[p2_ind]\n",
        "        p1_temp = copy(p1)\n",
        "        #print(f\"p1: {p1} p2: {p2}\")\n",
        "        \"\"\"\n",
        "        perform crossover (a and b are sublists)\n",
        "        p1 = [a1, a2], p2 = [b1, b2]\n",
        "        -> c1 = [a1, b2], c2 = [b1, a2]\n",
        "        OR \n",
        "        -> c1 = [b1, a2], c2 = [a1, b2]\n",
        "        \"\"\"\n",
        "        l = len(p1)\n",
        "        half = int(l/2)\n",
        "        rnd = np.random.choice([0,1],size=1)\n",
        "        if rnd==0:\n",
        "            #print(\"swapping first half.\")\n",
        "            #swap first half of bitstring\n",
        "            p1[0:half] = p2[0:half]\n",
        "            p2[0:half] = p1_temp[0:half]\n",
        "        else:\n",
        "            #print(\"swapping second half.\")\n",
        "            #swap second half of bitstring\n",
        "            p1[half:] = p2[half:]\n",
        "            p2[half:] = p1_temp[half:]\n",
        "        #print(f\"c1: {p1} c2: {p2}\")\n",
        "        #add children to population\n",
        "        population=list(population)\n",
        "        children.append(p1)\n",
        "        children.append(p2)\n",
        "    result = population + list(children)\n",
        "    return result"
      ],
      "metadata": {
        "id": "tLF-q4udkq1q"
      },
      "execution_count": 33,
      "outputs": []
    },
    {
      "cell_type": "code",
      "source": [
        "# getting a weird result for 100_995.txt because all the objects have high weights \n",
        "# and the ideal solution is sparse\n",
        "for filename in [\"10_269.txt\", \"23_10000.txt\"]:\n",
        "    bs_len,cap,values,weights = read_file(filename)\n",
        "    print(f\"Solving {filename} knapsack problem\")\n",
        "    print(f\"Number of items: {bs_len}\\n Capacity: {cap}\")\n",
        "    print(f\"Object values: {values}\\n Object weights: {weights}\")\n",
        "\n",
        "    pop_num = 1000\n",
        "    #control rate of births + deaths\n",
        "    size_rate = 50\n",
        "    #control rate of mutation\n",
        "    mut_rate = 50\n",
        "    #initialise pop_num individuals of length bs_len\n",
        "    population = init_population(pop_num, bs_len)\n",
        "    fit_arr = []\n",
        "    for i in range(1000):\n",
        "        fits = [fitness(cap,values,weights,candidate) for candidate in population]\n",
        "        #print best solution\n",
        "        best = np.argmax(fits)\n",
        "        population = selection(size_rate,cap,values,weights,population)\n",
        "        population = mutate(population, mut_rate)\n",
        "        population = crossover(population,int(size_rate/2))\n",
        "        fit_arr.append(np.mean(fits))\n",
        "    plt.plot(fit_arr)\n",
        "    plt.xlabel(\"Generations\")\n",
        "    plt.ylabel(\"Mean fitness\")\n",
        "    plt.title(f\"Population mean fitness over time. File {filename}\")\n",
        "    plt.show()\n",
        "    print(f\"Best fitness: {fits[best]}\\n Solution: {population[best]}\")"
      ],
      "metadata": {
        "colab": {
          "base_uri": "https://localhost:8080/",
          "height": 845
        },
        "id": "gUR11527hZ8q",
        "outputId": "44872898-4c23-4c55-b2a5-a81943e31a0b"
      },
      "execution_count": 55,
      "outputs": [
        {
          "output_type": "stream",
          "name": "stdout",
          "text": [
            "Solving 10_269.txt knapsack problem\n",
            "Number of items: 10\n",
            " Capacity: 269\n",
            "Object values: [55 10 47  5  4 50  8 61 85 87]\n",
            " Object weights: [95  4 60 32 23 72 80 62 65 46]\n"
          ]
        },
        {
          "output_type": "display_data",
          "data": {
            "text/plain": [
              "<Figure size 432x288 with 1 Axes>"
            ],
            "image/png": "[encoded data removed]"
          },
          "metadata": {
            "needs_background": "light"
          }
        },
        {
          "output_type": "stream",
          "name": "stdout",
          "text": [
            "Best fitness: 295\n",
            " Solution: [0 1 1 1 0 0 0 1 1 1]\n",
            "Solving 23_10000.txt knapsack problem\n",
            "Number of items: 23\n",
            " Capacity: 10000\n",
            "Object values: [981 980 979 978 977 976 487 974 970 485 485 970 970 484 484 976 974 482\n",
            " 962 961 959 958 857]\n",
            " Object weights: [983 982 981 980 979 978 488 976 972 486 486 972 972 485 485 969 966 483\n",
            " 964 963 961 958 959]\n"
          ]
        },
        {
          "output_type": "display_data",
          "data": {
            "text/plain": [
              "<Figure size 432x288 with 1 Axes>"
            ],
            "image/png": "[encoded data removed]"
          },
          "metadata": {
            "needs_background": "light"
          }
        },
        {
          "output_type": "stream",
          "name": "stdout",
          "text": [
            "Best fitness: 9753\n",
            " Solution: [1 1 1 1 0 0 1 0 0 1 0 1 1 1 0 1 1 1 0 0 0 0 0]\n"
          ]
        }
      ]
    }
  ]
}