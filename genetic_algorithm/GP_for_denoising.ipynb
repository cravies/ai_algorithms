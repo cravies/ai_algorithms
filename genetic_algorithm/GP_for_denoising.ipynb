{
  "nbformat": 4,
  "nbformat_minor": 0,
  "metadata": {
    "colab": {
      "provenance": []
    },
    "kernelspec": {
      "name": "python3",
      "display_name": "Python 3"
    },
    "language_info": {
      "name": "python"
    }
  },
  "cells": [
    {
      "cell_type": "markdown",
      "source": [
        "# Using Genetic Programming to fit a function to noisy data."
      ],
      "metadata": {
        "id": "DvTp2r3DyLFB"
      }
    },
    {
      "cell_type": "markdown",
      "source": [
        "DEAP install"
      ],
      "metadata": {
        "id": "jXzwQadNyIgJ"
      }
    },
    {
      "cell_type": "code",
      "source": [
        "!pip install deap"
      ],
      "metadata": {
        "colab": {
          "base_uri": "https://localhost:8080/"
        },
        "id": "gFjCjA8yyKP4",
        "outputId": "1611e2cc-4ae0-47be-9110-b307c1693ac5"
      },
      "execution_count": 61,
      "outputs": [
        {
          "output_type": "stream",
          "name": "stdout",
          "text": [
            "Looking in indexes: https://pypi.org/simple, https://us-python.pkg.dev/colab-wheels/public/simple/\n",
            "Requirement already satisfied: deap in /usr/local/lib/python3.7/dist-packages (1.3.3)\n",
            "Requirement already satisfied: numpy in /usr/local/lib/python3.7/dist-packages (from deap) (1.21.6)\n"
          ]
        }
      ]
    },
    {
      "cell_type": "markdown",
      "source": [
        "Let's make some noisy signals."
      ],
      "metadata": {
        "id": "_UxRbkxiwpFZ"
      }
    },
    {
      "cell_type": "code",
      "execution_count": 134,
      "metadata": {
        "id": "iUKPKdJCYylI"
      },
      "outputs": [],
      "source": [
        "import numpy as np\n",
        "from matplotlib import pyplot as plt\n",
        "\n",
        "def decay_exp_l(x,l):\n",
        "    \"\"\"\n",
        "    decaying exponential with specified lambda\n",
        "    y = exp(-x/l)\n",
        "    \"\"\"\n",
        "    x = np.asarray(x,dtype='float') + 0.01\n",
        "    y = np.exp(-x/l)\n",
        "    return y\n",
        "\n",
        "def cubic(x,a,b,c,d):\n",
        "    \"\"\"\n",
        "    a cubic function.\n",
        "    \"\"\"\n",
        "    return a*x**3 + b*x**2 + c*x + d\n",
        "\n",
        "def add_noise(x):\n",
        "    \"\"\"\n",
        "    Add noise to a given input.\n",
        "    Noise magnitude is \n",
        "    ~ N(0,max(x)/10)\n",
        "    I.e scales with input magnitude\n",
        "    \"\"\"\n",
        "    l = len(x)\n",
        "    return x + (1/20 * max(x)) * np.random.randn(l)\n",
        "\n",
        "def normalise(x):\n",
        "    return x / np.max(x)"
      ]
    },
    {
      "cell_type": "code",
      "source": [
        "x_vec=np.linspace(-100,100,1000)\n",
        "\n",
        "cubic_x = add_noise(cubic(x_vec, 1, 10, 100,1000))\n",
        "exp_x = add_noise(decay_exp_l(x_vec, 100))\n",
        "y_vec = cubic_x * exp_x\n",
        "\n",
        "plt.plot(normalise(cubic_x), label=\"cubic\")\n",
        "plt.plot(normalise(exp_x), label=\"decaying exp\")\n",
        "plt.plot(normalise(cubic_x * exp_x), label=\"exp decaying * cubic\")\n",
        "plt.title(\"Various noisy signals\")\n",
        "plt.legend()\n",
        "plt.show()"
      ],
      "metadata": {
        "colab": {
          "base_uri": "https://localhost:8080/",
          "height": 281
        },
        "id": "P69Ez7ZldLf9",
        "outputId": "aeaa8a6a-bf19-4ad2-92a2-5130ac417cee"
      },
      "execution_count": 135,
      "outputs": [
        {
          "output_type": "display_data",
          "data": {
            "text/plain": [
              "<Figure size 432x288 with 1 Axes>"
            ],
            "image/png": "[encoded data removed]"
          },
          "metadata": {
            "needs_background": "light"
          }
        }
      ]
    },
    {
      "cell_type": "markdown",
      "source": [
        "Now lets make a function to fit this."
      ],
      "metadata": {
        "id": "iitN4Ja-wmSA"
      }
    },
    {
      "cell_type": "code",
      "source": [
        "import operator\n",
        "import math\n",
        "import random\n",
        "from sympy import sympify\n",
        "import numpy as np\n",
        "from deap import algorithms\n",
        "from deap import base\n",
        "from deap import creator\n",
        "from deap import tools\n",
        "from deap import gp\n",
        "from matplotlib import pyplot as plt\n",
        "from random import randint as rand\n",
        "\n",
        "def protectedDiv(a, b):\n",
        "    \"\"\"\n",
        "    protected division for numpy arrays\n",
        "    \"\"\"\n",
        "    a = np.asarray(a,dtype='float')\n",
        "    b = np.asarray(b,dtype='float')\n",
        "    c = np.divide(a, b, out=np.ones_like(a), where=b!=0)\n",
        "    return c\n",
        "\n",
        "def decay_exp(x):\n",
        "    \"\"\"\n",
        "    decaying exponential\n",
        "    y = exp(-x)\n",
        "    \"\"\"\n",
        "    x = np.asarray(x,dtype='float') + 0.01\n",
        "    y = np.exp(-x/100)\n",
        "    return y\n",
        "\n",
        "def evalSymbReg(individual,x_points,y_points):\n",
        "    \"\"\"evaluate the fitness of the individual\"\"\"\n",
        "    # Transform the tree expression in a callable function\n",
        "    func = toolbox.compile(expr=individual)\n",
        "    # Evaluate the mean squared error between the expression and\n",
        "    # the real values (y points)\n",
        "    sqerrors = ((func(x_points[i]) - y_points[i])**2 for i in range(len(x_points)))\n",
        "    mean_err = math.fsum(sqerrors) / len(x_points)\n",
        "    return mean_err,\n",
        "\n",
        "def create_primset(name):\n",
        "    #create primitive set\n",
        "    pset = gp.PrimitiveSet(\"MAIN\", 1)\n",
        "    pset.addPrimitive(operator.add, 2)\n",
        "    pset.addPrimitive(operator.sub, 2)\n",
        "    pset.addPrimitive(operator.mul, 2)\n",
        "    #pset.addPrimitive(protectedDiv, 2)\n",
        "    pset.addPrimitive(decay_exp, 1)\n",
        "    pset.addPrimitive(math.cos,1)\n",
        "    pset.addPrimitive(math.sin,1)\n",
        "    # deap bug: must change randguy string every time.. (raise github issue?)\n",
        "    pset.addEphemeralConstant(name, lambda: random.randint(-2,2))\n",
        "    #use x instead of ARG0 as our variable name\n",
        "    pset.renameArguments(ARG0='x')\n",
        "    return pset    \n",
        "\n",
        "def create_stats():\n",
        "    #create tools for computing statistics on populations\n",
        "    stats_fit = tools.Statistics(lambda ind: ind.fitness.values)\n",
        "    stats_size = tools.Statistics(len)\n",
        "    mstats = tools.MultiStatistics(fitness=stats_fit, size=stats_size)\n",
        "    mstats.register(\"avg\", np.mean)\n",
        "    mstats.register(\"std\", np.std)\n",
        "    mstats.register(\"min\", np.min)\n",
        "    mstats.register(\"max\", np.max)\n",
        "    return mstats\n",
        "\n",
        "def human_readable(individual):\n",
        "    \"\"\" convert a candidate function into a human readable string\"\"\" \n",
        "    #dictionary to translate deap output to human readable\n",
        "    #using sympy\n",
        "    locals = {\n",
        "        'sub': lambda x, y : x - y,\n",
        "        'protectedDiv': lambda x, y : x/y if y!=0 else 1,\n",
        "        'mul': lambda x, y : x*y,\n",
        "        'add': lambda x, y : x + y,\n",
        "        'pow': lambda x, y : x**y,\n",
        "        'neg': lambda x    : -x,\n",
        "    }\n",
        "    print(f'original: {individual}')\n",
        "    expr = sympify(str(individual), locals=locals)\n",
        "    print(f'simplified: {expr}')\n",
        "    return expr\n",
        "\n",
        "def create_toolbox(pset,tree_depth,x,y):\n",
        "    \"\"\"given a pset, \n",
        "    the max tree depth, \n",
        "    and dataset (x and y vector)\n",
        "    create a toolbox to operate while evolving\n",
        "    \"\"\"\n",
        "    #define evolution parameters with toolbox\n",
        "    toolbox = base.Toolbox()\n",
        "    toolbox.register(\"expr\", gp.genHalfAndHalf, pset=pset, min_=1, max_=2)\n",
        "    toolbox.register(\"individual\", tools.initIterate, creator.Individual, toolbox.expr)\n",
        "    toolbox.register(\"population\", tools.initRepeat, list, toolbox.individual)\n",
        "    toolbox.register(\"compile\", gp.compile, pset=pset)\n",
        "    #evaluate performance\n",
        "    toolbox.register(\"evaluate\", evalSymbReg, x_points=x, y_points=y)\n",
        "    #use double tournament selection to select first based on fitness, and second based on size.\n",
        "    #toolbox.register(\"select\", tools.selDoubleTournament, fitness_size=4, parsimony_size=1.4, fitness_first=True)\n",
        "    toolbox.register(\"select\", tools.selTournament, tournsize=2)\n",
        "    toolbox.register(\"mate\", gp.cxOnePoint)\n",
        "    toolbox.register(\"expr_mut\", gp.genFull, min_=0, max_=2)\n",
        "    toolbox.register(\"mutate\", gp.mutUniform, expr=toolbox.expr_mut, pset=pset)\n",
        "    toolbox.decorate(\"mate\", gp.staticLimit(key=operator.attrgetter(\"height\"), max_value=tree_depth))\n",
        "    toolbox.decorate(\"mutate\", gp.staticLimit(key=operator.attrgetter(\"height\"), max_value=tree_depth))\n",
        "    return toolbox\n",
        "\n",
        "def plot_comparison(x_vec,y_vec,func,titstr):\n",
        "    \"\"\"compare a function's prediction with the real points\"\"\"\n",
        "    x_vec = np.asarray(x_vec)\n",
        "    pred = [func(i) for i in x_vec]\n",
        "    plt.plot(x_vec,y_vec,label=\"realdata\")\n",
        "    plt.plot(x_vec,pred,label=\"prediction\")\n",
        "    plt.title(f\"{titstr}\\n Guessed ${best_str}$\")\n",
        "    plt.legend()\n",
        "    plt.show()"
      ],
      "metadata": {
        "id": "9qVmEnOMwtep"
      },
      "execution_count": 137,
      "outputs": []
    },
    {
      "cell_type": "markdown",
      "source": [
        "Set up GP algorithm for running."
      ],
      "metadata": {
        "id": "eD7J8-NIxzy5"
      }
    },
    {
      "cell_type": "code",
      "source": [
        "generation_pop = 2000\n",
        "gen_num = 20\n",
        "depth = 8\n",
        "r = 123\n",
        "\n",
        "#create primitive set of operations for tree generation\n",
        "randname = str(100*rand(0,100000) + 123*rand(0,100))+\"name\"\n",
        "#need new name for randon number constant each time due to DEAP bug\n",
        "pset = create_primset(randname)\n",
        "\n",
        "#define fitness function and create individual who holds the genotype\n",
        "creator.create(\"FitnessMin\", base.Fitness, weights=(-1.0,))\n",
        "#individual is a tree\n",
        "creator.create(\"Individual\", gp.PrimitiveTree, fitness=creator.FitnessMin)\n",
        "#define evolution parameters with toolbox\n",
        "toolbox = create_toolbox(pset,depth,x_vec,y_vec) \n",
        "\n",
        "#------------------------------------------\n",
        "#run it\n",
        "random.seed(r)\n",
        "#initialise population and hall of fame ()\n",
        "pop = toolbox.population(n=generation_pop)\n",
        "hof = tools.HallOfFame(1)\n",
        "\n",
        "#grab statistics\n",
        "mstats = create_stats()\n",
        "\n",
        "#eaSimple(population, toolbox, cxpb, mutpb, ngen, stats=None,halloffame=None, verbose=__debug__):\n",
        "\"\"\"This algorithm implements a simple evolutionary algorithm\n",
        ":param population: A list of individuals.\n",
        ":param toolbox: A :class:`~deap.base.Toolbox` that contains the evolution operators.\n",
        ":param cxpb: The probability of mating two individuals. Set to 50%\n",
        ":param mutpb: The probability of mutating an individual. Set to 20%\n",
        ":param ngen: The number of generation.\n",
        ":param stats: A :class:`~deap.tools.Statistics` object \n",
        ":param halloffame: A :class:`~deap.tools.HallOfFame` object that will contain the best individuals, optional.\n",
        ":param verbose: Whether or not to log the statistics.\n",
        ":returns: population: The final population\n",
        ":returns: run_log: statistics of the evolution process\n",
        "\"\"\"\n",
        "population, run_log = algorithms.eaSimple(pop, toolbox, 0.4, 0.2, gen_num, stats=mstats,\n",
        "                                halloffame=hof, verbose=True)\n",
        "print(run_log)\n",
        "\n",
        "#try to get best individual into a printable form\n",
        "best_ind = tools.selBest(population, 1)[0]\n",
        "best_str = human_readable(best_ind)\n",
        "print(\"best str\", best_str)\n",
        "\n",
        "#now plot the function vs the data\n",
        "func = toolbox.compile(expr=best_ind)\n",
        "#save plot\n",
        "#real function\n",
        "real=\"(x^3 +10x^2 + 100x + 1000)*decay_exp(x)\"\n",
        "plot_comparison(x_vec,y_vec,func,real)"
      ],
      "metadata": {
        "colab": {
          "base_uri": "https://localhost:8080/",
          "height": 1000
        },
        "id": "O3rPS19sx1P1",
        "outputId": "ff1900b3-bfc5-419f-ffb7-78ce6e762f26"
      },
      "execution_count": 142,
      "outputs": [
        {
          "output_type": "stream",
          "name": "stderr",
          "text": [
            "/usr/local/lib/python3.7/dist-packages/deap/creator.py:141: RuntimeWarning: A class named 'FitnessMin' has already been created and it will be overwritten. Consider deleting previous creation of that class or rename it.\n",
            "  RuntimeWarning)\n",
            "/usr/local/lib/python3.7/dist-packages/deap/creator.py:141: RuntimeWarning: A class named 'Individual' has already been created and it will be overwritten. Consider deleting previous creation of that class or rename it.\n",
            "  RuntimeWarning)\n"
          ]
        },
        {
          "output_type": "stream",
          "name": "stdout",
          "text": [
            "   \t      \t                                  fitness                                  \t                      size                     \n",
            "   \t      \t---------------------------------------------------------------------------\t-----------------------------------------------\n",
            "gen\tnevals\tavg        \tgen\tmax        \tmin        \tnevals\tstd        \tavg  \tgen\tmax\tmin\tnevals\tstd    \n",
            "0  \t2000  \t3.66018e+11\t0  \t8.87747e+11\t1.28541e+11\t2000  \t1.28457e+10\t3.454\t0  \t7  \t2  \t2000  \t1.43558\n",
            "1  \t1054  \t3.65521e+11\t1  \t3.71382e+11\t1.28541e+11\t1054  \t7.53558e+09\t3.6615\t1  \t11 \t1  \t1054  \t1.69968\n",
            "2  \t1077  \t3.65555e+11\t2  \t7.82458e+11\t1.28541e+11\t1077  \t1.30782e+10\t4.0535\t2  \t15 \t1  \t1077  \t1.99816\n",
            "3  \t1042  \t3.64869e+11\t3  \t8.85014e+11\t1.25847e+11\t1042  \t1.93603e+10\t4.4375\t3  \t15 \t1  \t1042  \t2.23408\n",
            "4  \t1023  \t3.63944e+11\t4  \t8.87656e+11\t1.25847e+11\t1023  \t2.71183e+10\t4.814 \t4  \t15 \t1  \t1023  \t2.46199\n",
            "5  \t1081  \t4.84239e+12\t5  \t4.52328e+15\t1.21215e+11\t1081  \t1.41594e+14\t5.31  \t5  \t15 \t1  \t1081  \t2.64138\n",
            "6  \t1096  \t1.48693e+12\t6  \t1.14281e+15\t1.28541e+11\t1096  \t3.54164e+13\t5.774 \t6  \t22 \t1  \t1096  \t2.78135\n",
            "7  \t1042  \t1.47758e+13\t7  \t1.78355e+16\t1.25846e+11\t1042  \t4.18988e+14\t6.3035\t7  \t19 \t1  \t1042  \t2.93469\n",
            "8  \t1050  \t2.59578e+12\t8  \t1.15151e+15\t1.25835e+11\t1050  \t5.01486e+13\t6.8905\t8  \t19 \t1  \t1050  \t3.0268 \n",
            "9  \t997   \t4.60826e+15\t9  \t9.18359e+18\t1.28541e+11\t997   \t2.053e+17  \t7.4785\t9  \t19 \t1  \t997   \t3.2194 \n",
            "10 \t1004  \t1.30906e+85\t10 \t2.61812e+88\t1.17996e+11\t1004  \t5.85284e+86\t7.98  \t10 \t21 \t1  \t1004  \t3.42383\n",
            "11 \t1020  \t5.38173e+13\t11 \t7.1857e+16 \t1.16229e+10\t1020  \t1.61908e+15\t8.295 \t11 \t28 \t1  \t1020  \t3.65034\n",
            "12 \t1013  \t4.63407e+15\t12 \t9.18368e+18\t1.16229e+10\t1013  \t2.05302e+17\t8.7185\t12 \t29 \t1  \t1013  \t3.88256\n"
          ]
        },
        {
          "output_type": "stream",
          "name": "stderr",
          "text": [
            "/usr/local/lib/python3.7/dist-packages/ipykernel_launcher.py:29: RuntimeWarning: overflow encountered in exp\n",
            "/usr/local/lib/python3.7/dist-packages/ipykernel_launcher.py:38: RuntimeWarning: overflow encountered in double_scalars\n",
            "/usr/local/lib/python3.7/dist-packages/numpy/core/_methods.py:230: RuntimeWarning: invalid value encountered in subtract\n",
            "  x = asanyarray(arr - arrmean)\n"
          ]
        },
        {
          "output_type": "stream",
          "name": "stdout",
          "text": [
            "13 \t982   \tinf        \t13 \tinf        \t1.18007e+11\t982   \tnan        \t8.8445\t13 \t29 \t1  \t982   \t3.9737 \n",
            "14 \t1048  \t2.30056e+16\t14 \t9.19988e+18\t1.26054e+10\t1048  \t4.58629e+17\t8.86  \t14 \t29 \t1  \t1048  \t4.14408\n",
            "15 \t1046  \t3.67729e+16\t15 \t3.67226e+19\t1.25933e+10\t1046  \t9.17284e+17\t8.933 \t15 \t31 \t1  \t1046  \t4.28153\n"
          ]
        },
        {
          "output_type": "stream",
          "name": "stderr",
          "text": [
            "<string>:1: RuntimeWarning: overflow encountered in double_scalars\n"
          ]
        },
        {
          "output_type": "stream",
          "name": "stdout",
          "text": [
            "16 \t1009  \tinf        \t16 \tinf        \t1.259e+10  \t1009  \tnan        \t9.0865\t16 \t27 \t1  \t1009  \t4.37824\n",
            "17 \t1038  \tinf        \t17 \tinf        \t1.259e+10  \t1038  \tnan        \t9.122 \t17 \t32 \t1  \t1038  \t4.38693\n",
            "18 \t1043  \tinf        \t18 \tinf        \t1.07619e+10\t1043  \tnan        \t9.3915\t18 \t27 \t1  \t1043  \t4.36981\n",
            "19 \t1032  \tinf        \t19 \tinf        \t1.259e+10  \t1032  \tnan        \t9.87  \t19 \t29 \t1  \t1032  \t4.53609\n",
            "20 \t1069  \tinf        \t20 \tinf        \t1.16229e+10\t1069  \tnan        \t10.33 \t20 \t29 \t1  \t1069  \t4.81987\n",
            "   \t      \t                                  fitness                                  \t                      size                     \n",
            "   \t      \t---------------------------------------------------------------------------\t-----------------------------------------------\n",
            "gen\tnevals\tavg        \tgen\tmax        \tmin        \tnevals\tstd        \tavg   \tgen\tmax\tmin\tnevals\tstd    \n",
            "0  \t2000  \t3.66018e+11\t0  \t8.87747e+11\t1.28541e+11\t2000  \t1.28457e+10\t3.454 \t0  \t7  \t2  \t2000  \t1.43558\n",
            "1  \t1054  \t3.65521e+11\t1  \t3.71382e+11\t1.28541e+11\t1054  \t7.53558e+09\t3.6615\t1  \t11 \t1  \t1054  \t1.69968\n",
            "2  \t1077  \t3.65555e+11\t2  \t7.82458e+11\t1.28541e+11\t1077  \t1.30782e+10\t4.0535\t2  \t15 \t1  \t1077  \t1.99816\n",
            "3  \t1042  \t3.64869e+11\t3  \t8.85014e+11\t1.25847e+11\t1042  \t1.93603e+10\t4.4375\t3  \t15 \t1  \t1042  \t2.23408\n",
            "4  \t1023  \t3.63944e+11\t4  \t8.87656e+11\t1.25847e+11\t1023  \t2.71183e+10\t4.814 \t4  \t15 \t1  \t1023  \t2.46199\n",
            "5  \t1081  \t4.84239e+12\t5  \t4.52328e+15\t1.21215e+11\t1081  \t1.41594e+14\t5.31  \t5  \t15 \t1  \t1081  \t2.64138\n",
            "6  \t1096  \t1.48693e+12\t6  \t1.14281e+15\t1.28541e+11\t1096  \t3.54164e+13\t5.774 \t6  \t22 \t1  \t1096  \t2.78135\n",
            "7  \t1042  \t1.47758e+13\t7  \t1.78355e+16\t1.25846e+11\t1042  \t4.18988e+14\t6.3035\t7  \t19 \t1  \t1042  \t2.93469\n",
            "8  \t1050  \t2.59578e+12\t8  \t1.15151e+15\t1.25835e+11\t1050  \t5.01486e+13\t6.8905\t8  \t19 \t1  \t1050  \t3.0268 \n",
            "9  \t997   \t4.60826e+15\t9  \t9.18359e+18\t1.28541e+11\t997   \t2.053e+17  \t7.4785\t9  \t19 \t1  \t997   \t3.2194 \n",
            "10 \t1004  \t1.30906e+85\t10 \t2.61812e+88\t1.17996e+11\t1004  \t5.85284e+86\t7.98  \t10 \t21 \t1  \t1004  \t3.42383\n",
            "11 \t1020  \t5.38173e+13\t11 \t7.1857e+16 \t1.16229e+10\t1020  \t1.61908e+15\t8.295 \t11 \t28 \t1  \t1020  \t3.65034\n",
            "12 \t1013  \t4.63407e+15\t12 \t9.18368e+18\t1.16229e+10\t1013  \t2.05302e+17\t8.7185\t12 \t29 \t1  \t1013  \t3.88256\n",
            "13 \t982   \tinf        \t13 \tinf        \t1.18007e+11\t982   \tnan        \t8.8445\t13 \t29 \t1  \t982   \t3.9737 \n",
            "14 \t1048  \t2.30056e+16\t14 \t9.19988e+18\t1.26054e+10\t1048  \t4.58629e+17\t8.86  \t14 \t29 \t1  \t1048  \t4.14408\n",
            "15 \t1046  \t3.67729e+16\t15 \t3.67226e+19\t1.25933e+10\t1046  \t9.17284e+17\t8.933 \t15 \t31 \t1  \t1046  \t4.28153\n",
            "16 \t1009  \tinf        \t16 \tinf        \t1.259e+10  \t1009  \tnan        \t9.0865\t16 \t27 \t1  \t1009  \t4.37824\n",
            "17 \t1038  \tinf        \t17 \tinf        \t1.259e+10  \t1038  \tnan        \t9.122 \t17 \t32 \t1  \t1038  \t4.38693\n",
            "18 \t1043  \tinf        \t18 \tinf        \t1.07619e+10\t1043  \tnan        \t9.3915\t18 \t27 \t1  \t1043  \t4.36981\n",
            "19 \t1032  \tinf        \t19 \tinf        \t1.259e+10  \t1032  \tnan        \t9.87  \t19 \t29 \t1  \t1032  \t4.53609\n",
            "20 \t1069  \tinf        \t20 \tinf        \t1.16229e+10\t1069  \tnan        \t10.33 \t20 \t29 \t1  \t1069  \t4.81987\n",
            "original: mul(mul(add(x, mul(x, x)), decay_exp(x)), x)\n",
            "simplified: x*(x**2 + x)*decay_exp(x)\n",
            "best str x*(x**2 + x)*decay_exp(x)\n"
          ]
        },
        {
          "output_type": "display_data",
          "data": {
            "text/plain": [
              "<Figure size 432x288 with 1 Axes>"
            ],
            "image/png": "[encoded data removed]"
          },
          "metadata": {
            "needs_background": "light"
          }
        }
      ]
    }
  ]
}